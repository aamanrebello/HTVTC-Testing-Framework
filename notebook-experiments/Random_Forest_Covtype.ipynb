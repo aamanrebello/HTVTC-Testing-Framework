{
  "cells": [
    {
      "cell_type": "markdown",
      "metadata": {
        "id": "aQtcSIZ_ojDQ"
      },
      "source": [
        "# SVM Experiments with Covertype Data Set"
      ]
    },
    {
      "cell_type": "markdown",
      "metadata": {
        "id": "PCHBFOnspbbl"
      },
      "source": [
        "## 1. Setup"
      ]
    },
    {
      "cell_type": "markdown",
      "metadata": {
        "id": "RWCMBEmOOQin"
      },
      "source": [
        "### 1.A. Import Libraries"
      ]
    },
    {
      "cell_type": "code",
      "execution_count": null,
      "metadata": {
        "id": "61Upcr2hOSms"
      },
      "outputs": [],
      "source": [
        "import numpy"
      ]
    },
    {
      "cell_type": "markdown",
      "metadata": {
        "id": "y21rCU5DptU4"
      },
      "source": [
        "### 1.B. Import GitHub Repo"
      ]
    },
    {
      "cell_type": "code",
      "execution_count": null,
      "metadata": {
        "id": "REOGgVHMpeTi"
      },
      "outputs": [],
      "source": [
        "!git clone https://github.com/aamanrebello/HTVTC-Testing-Framework.git\n",
        "\n",
        "#Enable importing code from parent directory\n",
        "import os, sys\n",
        "final_HTVTC = os.path.abspath('./HTVTC-Testing-Framework/final-HTVTC')\n",
        "sys.path.insert(1, final_HTVTC)\n",
        "traditional_methods = os.path.abspath('./HTVTC-Testing-Framework/traditional-methods')\n",
        "sys.path.insert(1, traditional_methods)\n",
        "root = os.path.abspath('./HTVTC-Testing-Framework')\n",
        "sys.path.insert(1, root)"
      ]
    },
    {
      "cell_type": "markdown",
      "metadata": {
        "id": "_WBNKgXuNUld"
      },
      "source": [
        "### 1.C. Establish the Common Metric"
      ]
    },
    {
      "cell_type": "code",
      "execution_count": null,
      "metadata": {
        "id": "rJM_St7BNY7b"
      },
      "outputs": [],
      "source": [
        "import classificationmetrics\n",
        "metric = classificationmetrics.JensenShannonDivergence"
      ]
    },
    {
      "cell_type": "markdown",
      "metadata": {
        "id": "8g0EH_MaqCx9"
      },
      "source": [
        "### 1.D.1. Setup for HTVTC"
      ]
    },
    {
      "cell_type": "code",
      "execution_count": null,
      "metadata": {
        "id": "66tioo_0qGEu"
      },
      "outputs": [],
      "source": [
        "!pip install tensorly"
      ]
    },
    {
      "cell_type": "markdown",
      "metadata": {
        "id": "F4b7CovNqVpv"
      },
      "source": [
        "### 1.D.2. Setup for Random Search, BO-TPE, CMA-ES, Hyperband "
      ]
    },
    {
      "cell_type": "code",
      "execution_count": null,
      "metadata": {
        "id": "ZvjoAdviqfNM"
      },
      "outputs": [],
      "source": [
        "!pip install optuna"
      ]
    },
    {
      "cell_type": "markdown",
      "metadata": {
        "id": "TGKIPgztqvQJ"
      },
      "source": [
        "### 1.D.3. Setup for BOHB"
      ]
    },
    {
      "cell_type": "code",
      "execution_count": null,
      "metadata": {
        "id": "a7Oz3xalqzdB"
      },
      "outputs": [],
      "source": [
        "!pip install hpbandster"
      ]
    },
    {
      "cell_type": "markdown",
      "metadata": {
        "id": "QWFQAKuMq7Cz"
      },
      "source": [
        "###  1.D.4. Setup for BO-GP"
      ]
    },
    {
      "cell_type": "code",
      "execution_count": null,
      "metadata": {
        "id": "lU49ofJSrG_L"
      },
      "outputs": [],
      "source": [
        "!pip install git+https://github.com/fmfn/BayesianOptimization"
      ]
    },
    {
      "cell_type": "markdown",
      "metadata": {
        "id": "IzASa1w_raOY"
      },
      "source": [
        "### 1.E. Load Data Set and Setup Evaluation Function "
      ]
    },
    {
      "cell_type": "markdown",
      "metadata": {
        "id": "7L26Pdk0up5I"
      },
      "source": [
        "#### 1.E.1. Load and preprocess the data\n",
        "\n",
        "**Note:** Since the full data cannnot be stored within RAM of even the servers used on Google Colab, the data is pre-processed by taking the first $k$ samples of class $0$, the first $k$ samples of class $1$ and putting these together to get a data set of size $2k$. "
      ]
    },
    {
      "cell_type": "code",
      "execution_count": null,
      "metadata": {
        "id": "aiYXgYsMsI6S"
      },
      "outputs": [],
      "source": [
        "from loaddata import loadData, trainTestSplit, extractZeroOneClasses, convertZeroOne, generateReturnDict\n",
        "\n",
        "#Samples size/2 elements of each class to generate a trucated form of the data\n",
        "#that evenly represents both classes.\n",
        "def even_binary_truncate(data_dict, size):\n",
        "  labels = data_dict['labels']\n",
        "  features = data_dict['features']\n",
        "  zero_features = []\n",
        "  one_features = []\n",
        "  zero_labels = []\n",
        "  one_labels = []\n",
        "  HALF_SIZE = size//2\n",
        "  for index in range(len(labels)):\n",
        "    label = labels[index]\n",
        "    feature = features[index]\n",
        "    if label == 1:\n",
        "      if len(one_labels) < HALF_SIZE:\n",
        "        one_features.append(feature)\n",
        "        one_labels.append(label)\n",
        "      continue\n",
        "    if label == 0:\n",
        "      if len(zero_labels) < HALF_SIZE:\n",
        "        zero_features.append(feature)\n",
        "        zero_labels.append(label)\n",
        "      continue\n",
        "    break\n",
        "  final_labels = zero_labels + one_labels\n",
        "  final_features = zero_features + one_features\n",
        "  return generateReturnDict(final_features, final_labels)\n",
        "\n",
        "#Load data into `data_split`\n",
        "task = 'classification'\n",
        "data = loadData(source='sklearn', identifier='covtype', task=task)\n",
        "binary_data = extractZeroOneClasses(data, zeroClassLabel=1, oneClassLabel=2)\n",
        "#Truncate to limit elements\n",
        "LIMIT = 20000 \n",
        "truncated_data = even_binary_truncate(binary_data, LIMIT)\n",
        "\n",
        "#Print out description\n",
        "TOTAL_ELEMENTS = len(truncated_data['labels'])\n",
        "print(f'Total number of data samples: {TOTAL_ELEMENTS}')\n",
        "ZERO_ELEMENTS = numpy.count_nonzero(truncated_data['labels'])\n",
        "print(f'Total number of samples with label 0: {ZERO_ELEMENTS}')"
      ]
    },
    {
      "cell_type": "markdown",
      "metadata": {
        "id": "SxSSL724IXRU"
      },
      "source": [
        "#### 1.E.2. Function to Freshly Generate Evaluation Function (Which Uses a Python Generator to Achieve Cross-validation)"
      ]
    },
    {
      "cell_type": "code",
      "execution_count": null,
      "metadata": {
        "id": "-0xaj0MeImZM"
      },
      "outputs": [],
      "source": [
        "from trainmodels import crossValidationFunctionGenerator\n",
        "\n",
        "def generate_evaluation_function(algorithm='random-forest'):\n",
        "  #Regenerates the generator for cross-validation\n",
        "  data_split = trainTestSplit(truncated_data, method = 'cross_validation')\n",
        "  #Generate evaluation function as `func`\n",
        "  func = crossValidationFunctionGenerator(data_split, algorithm=algorithm, task=task)\n",
        "  return func\n",
        "\n",
        "#Test the above function\n",
        "f = generate_evaluation_function()\n",
        "res = f(no_trees=15, max_tree_depth=20, bootstrap=False, min_samples_split=5, no_features=10, metric=metric)\n",
        "print(res)"
      ]
    },
    {
      "cell_type": "markdown",
      "metadata": {
        "id": "z1w9Hi-CtMPD"
      },
      "source": [
        "#### 1.E.3. Function to Freshly Generate Evaluation Function That Accepts a Budget\n",
        "\n",
        "**Note:** This is defined separately to the other function to avoid the performance of the previous function being affected by processing of budget function parameters."
      ]
    },
    {
      "cell_type": "code",
      "execution_count": null,
      "metadata": {
        "id": "NA8LCZvttVzK"
      },
      "outputs": [],
      "source": [
        "from trainmodels import crossValidationFunctionGenerator\n",
        "\n",
        "def generate_budget_function(algorithm='random-forest', budget_type='samples', budget_fraction=1.0):\n",
        "  #Regenerates the generator for cross-validation\n",
        "  data_split = trainTestSplit(truncated_data, method = 'cross_validation')\n",
        "  #Generate evaluation function as `func`\n",
        "  func = crossValidationFunctionGenerator(data_split, algorithm=algorithm, task=task, budget_type=budget_type, budget_fraction=budget_fraction)\n",
        "  return func\n",
        "\n",
        "#Test the above function\n",
        "f = generate_budget_function(budget_fraction=0.1)\n",
        "res = f(no_trees=15, max_tree_depth=20, bootstrap=False, min_samples_split=5, no_features=10, metric=metric)\n",
        "print(res)"
      ]
    },
    {
      "cell_type": "markdown",
      "metadata": {
        "id": "oEboE0d3vK9T"
      },
      "source": [
        "## 2. Hyperparameter Optimisation Experiments "
      ]
    },
    {
      "cell_type": "markdown",
      "metadata": {
        "id": "rZcTKL8zvWwq"
      },
      "source": [
        "### 2.A. HTVTC"
      ]
    },
    {
      "cell_type": "code",
      "execution_count": null,
      "metadata": {
        "id": "zfv3P95PvgWl"
      },
      "outputs": [],
      "source": [
        "from trainmodels import crossValidationFunctionGenerator\n",
        "from finalAlgoImplementation import final_HTVTC\n",
        "\n",
        "quantity = 'EXEC-TIME'\n",
        "\n",
        "#Start timer/memory profiler/CPU timer\n",
        "a = None\n",
        "start_time = None\n",
        "if quantity == 'EXEC-TIME':\n",
        "    import time\n",
        "    start_time = time.perf_counter_ns()\n",
        "elif quantity == 'CPU-TIME':\n",
        "    import time\n",
        "    start_time = time.process_time_ns()\n",
        "elif quantity == 'MAX-MEMORY':\n",
        "    import tracemalloc\n",
        "    tracemalloc.start()\n",
        "\n",
        "ranges_dict = {\n",
        "        'no_trees': {\n",
        "            'type': 'INTEGER',\n",
        "            'start': 1.0,\n",
        "            'end': 40.0,\n",
        "            'interval': 5.0,\n",
        "        },\n",
        "        'max_tree_depth': {\n",
        "            'type': 'INTEGER',\n",
        "            'start': 1.0,\n",
        "            'end': 20.0,\n",
        "            'interval': 5.0,\n",
        "        },\n",
        "        'bootstrap': {\n",
        "            'type': 'CATEGORICAL',\n",
        "            'values': [True, False]\n",
        "        },\n",
        "        'min_samples_split': {\n",
        "            'type': 'INTEGER',\n",
        "            'start': 2.0,\n",
        "            'end': 11.0,\n",
        "            'interval': 2.0,\n",
        "        },\n",
        "        'no_features': {\n",
        "            'type': 'INTEGER',\n",
        "            'start': 1.0,\n",
        "            'end': 11.0,\n",
        "            'interval': 2.0,\n",
        "        },\n",
        "    }\n",
        "    \n",
        "func = generate_evaluation_function()\n",
        "recommended_combination, history = final_HTVTC(eval_func=func, \n",
        "                                               ranges_dict=ranges_dict, \n",
        "                                               metric=metric,\n",
        "                                               max_completion_cycles=4,\n",
        "                                               max_size_gridsearch=51)\n",
        "\n",
        "#End timer/memory profiler/CPU timer\n",
        "result = None\n",
        "if quantity == 'EXEC-TIME':\n",
        "    end_time = time.perf_counter_ns()\n",
        "    result = end_time - start_time\n",
        "elif quantity == 'CPU-TIME':\n",
        "    end_time = time.process_time_ns()\n",
        "    result = end_time - start_time\n",
        "elif quantity == 'MAX-MEMORY':\n",
        "    _, result = tracemalloc.get_traced_memory()\n",
        "    tracemalloc.stop()\n",
        "\n",
        "#Find the true loss for the selected combination\n",
        "truefunc = generate_evaluation_function()  \n",
        "true_value = truefunc(metric=metric, **recommended_combination)\n",
        "\n",
        "print(f'hyperparameters: {recommended_combination}')\n",
        "print(f'history: {history}')\n",
        "print(f'True value: {true_value}')\n",
        "print(f'{quantity}: {result}')"
      ]
    },
    {
      "cell_type": "markdown",
      "metadata": {
        "id": "aGki8-Pavgp_"
      },
      "source": [
        "### 2.B. Random Search"
      ]
    },
    {
      "cell_type": "code",
      "execution_count": null,
      "metadata": {
        "id": "x4YGSgO3v_yr"
      },
      "outputs": [],
      "source": [
        "import optuna\n",
        "from optuna.samplers import RandomSampler\n",
        "\n",
        "quantity = 'EXEC-TIME'\n",
        "\n",
        "def objective(trial):\n",
        "    no_trees = trial.suggest_int(\"no_trees\", 1, 40, step=1)\n",
        "    max_tree_depth = trial.suggest_int(\"max_tree_depth\", 1, 20, step=1)\n",
        "    bootstrap = trial.suggest_categorical(\"bootstrap\", [True, False])\n",
        "    min_samples_split = trial.suggest_int(\"min_samples_split\", 2, 11, step=1)\n",
        "    no_features = trial.suggest_int(\"no_features\", 1, 11, step=1)\n",
        "    \n",
        "    func = generate_evaluation_function()\n",
        "    return func(no_trees=no_trees, \n",
        "                max_tree_depth=max_tree_depth, \n",
        "                bootstrap=bootstrap, \n",
        "                min_samples_split=min_samples_split, \n",
        "                no_features=no_features, \n",
        "                metric=metric)\n",
        "\n",
        "#Start timer/memory profiler/CPU timer\n",
        "start_time = None\n",
        "if quantity == 'EXEC-TIME':\n",
        "    import time\n",
        "    start_time = time.perf_counter_ns()\n",
        "elif quantity == 'CPU-TIME':\n",
        "    import time\n",
        "    start_time = time.process_time_ns()\n",
        "elif quantity == 'MAX-MEMORY':\n",
        "    import tracemalloc\n",
        "    tracemalloc.start()\n",
        "\n",
        "optuna.logging.set_verbosity(optuna.logging.FATAL)\n",
        "study = optuna.create_study(sampler=RandomSampler())\n",
        "study.optimize(objective, n_trials=100)\n",
        "\n",
        "result = None\n",
        "if quantity == 'EXEC-TIME':\n",
        "    end_time = time.perf_counter_ns()\n",
        "    result = end_time - start_time\n",
        "elif quantity == 'CPU-TIME':\n",
        "    end_time = time.process_time_ns()\n",
        "    result = end_time - start_time\n",
        "elif quantity == 'MAX-MEMORY':\n",
        "    _, result = tracemalloc.get_traced_memory()\n",
        "    tracemalloc.stop()\n",
        "    \n",
        "print(f'Number of trials: {len(study.trials)}')\n",
        "print(f'Best trial: {study.best_trial}')\n",
        "print(f'{quantity}: {result}')"
      ]
    },
    {
      "cell_type": "markdown",
      "metadata": {
        "id": "syX1_kRDwADG"
      },
      "source": [
        "### 2.C. BO-TPE"
      ]
    },
    {
      "cell_type": "code",
      "execution_count": null,
      "metadata": {
        "id": "O94sLnYiwG_x"
      },
      "outputs": [],
      "source": [
        "import optuna\n",
        "from optuna.samplers import TPESampler\n",
        "\n",
        "quantity = 'EXEC-TIME'\n",
        "\n",
        "def objective(trial):\n",
        "    no_trees = trial.suggest_int(\"no_trees\", 1, 40, step=1)\n",
        "    max_tree_depth = trial.suggest_int(\"max_tree_depth\", 1, 20, step=1)\n",
        "    bootstrap = trial.suggest_categorical(\"bootstrap\", [True, False])\n",
        "    min_samples_split = trial.suggest_int(\"min_samples_split\", 2, 11, step=1)\n",
        "    no_features = trial.suggest_int(\"no_features\", 1, 11, step=1)\n",
        "    \n",
        "    func = generate_evaluation_function()\n",
        "    return func(no_trees=no_trees, \n",
        "                max_tree_depth=max_tree_depth, \n",
        "                bootstrap=bootstrap, \n",
        "                min_samples_split=min_samples_split, \n",
        "                no_features=no_features, \n",
        "                metric=metric)\n",
        "\n",
        "#Start timer/memory profiler/CPU timer\n",
        "start_time = None\n",
        "if quantity == 'EXEC-TIME':\n",
        "    import time\n",
        "    start_time = time.perf_counter_ns()\n",
        "elif quantity == 'CPU-TIME':\n",
        "    import time\n",
        "    start_time = time.process_time_ns()\n",
        "elif quantity == 'MAX-MEMORY':\n",
        "    import tracemalloc\n",
        "    tracemalloc.start()\n",
        "\n",
        "optuna.logging.set_verbosity(optuna.logging.FATAL)\n",
        "study = optuna.create_study(sampler=TPESampler())\n",
        "study.optimize(objective, n_trials=60)\n",
        "\n",
        "result = None\n",
        "if quantity == 'EXEC-TIME':\n",
        "    end_time = time.perf_counter_ns()\n",
        "    result = end_time - start_time\n",
        "elif quantity == 'CPU-TIME':\n",
        "    end_time = time.process_time_ns()\n",
        "    result = end_time - start_time\n",
        "elif quantity == 'MAX-MEMORY':\n",
        "    _, result = tracemalloc.get_traced_memory()\n",
        "    tracemalloc.stop()\n",
        "    \n",
        "print(f'Number of trials: {len(study.trials)}')\n",
        "print(f'Best trial: {study.best_trial}')\n",
        "print(f'{quantity}: {result}')"
      ]
    },
    {
      "cell_type": "markdown",
      "metadata": {
        "id": "DH8ISaofwHNd"
      },
      "source": [
        "### 2.D. CMA-ES"
      ]
    },
    {
      "cell_type": "code",
      "execution_count": null,
      "metadata": {
        "id": "h0BVTS5SwMqm"
      },
      "outputs": [],
      "source": [
        "import optuna\n",
        "\n",
        "quantity = 'EXEC-TIME'\n",
        "\n",
        "def objective(trial):\n",
        "    no_trees = trial.suggest_int(\"no_trees\", 1, 40, step=1)\n",
        "    max_tree_depth = trial.suggest_int(\"max_tree_depth\", 1, 20, step=1)\n",
        "    bootstrap = trial.suggest_categorical(\"bootstrap\", [True, False])\n",
        "    min_samples_split = trial.suggest_int(\"min_samples_split\", 2, 11, step=1)\n",
        "    no_features = trial.suggest_int(\"no_features\", 1, 11, step=1)\n",
        "    \n",
        "    func = generate_evaluation_function()\n",
        "    return func(no_trees=no_trees, \n",
        "                max_tree_depth=max_tree_depth, \n",
        "                bootstrap=bootstrap, \n",
        "                min_samples_split=min_samples_split, \n",
        "                no_features=no_features, \n",
        "                metric=metric)\n",
        "\n",
        "#Start timer/memory profiler/CPU timer\n",
        "start_time = None\n",
        "if quantity == 'EXEC-TIME':\n",
        "    import time\n",
        "    start_time = time.perf_counter_ns()\n",
        "elif quantity == 'CPU-TIME':\n",
        "    import time\n",
        "    start_time = time.process_time_ns()\n",
        "elif quantity == 'MAX-MEMORY':\n",
        "    import tracemalloc\n",
        "    tracemalloc.start()\n",
        "\n",
        "optuna.logging.set_verbosity(optuna.logging.FATAL)\n",
        "sampler = optuna.samplers.CmaEsSampler()\n",
        "study = optuna.create_study(sampler=sampler)\n",
        "study.optimize(objective, n_trials=80)\n",
        "\n",
        "result = None\n",
        "if quantity == 'EXEC-TIME':\n",
        "    end_time = time.perf_counter_ns()\n",
        "    result = end_time - start_time\n",
        "elif quantity == 'CPU-TIME':\n",
        "    end_time = time.process_time_ns()\n",
        "    result = end_time - start_time\n",
        "elif quantity == 'MAX-MEMORY':\n",
        "    _, result = tracemalloc.get_traced_memory()\n",
        "    tracemalloc.stop()\n",
        "    \n",
        "print(f'Number of trials: {len(study.trials)}')\n",
        "print(f'Best trial: {study.best_trial}')\n",
        "print(f'{quantity}: {result}')"
      ]
    },
    {
      "cell_type": "markdown",
      "metadata": {
        "id": "Ox1-A-yIPB8k"
      },
      "source": [
        "### 2.E. BO-GP"
      ]
    },
    {
      "cell_type": "code",
      "execution_count": null,
      "metadata": {
        "id": "wM8M8dSkhDL5"
      },
      "outputs": [],
      "source": [
        "from bayes_opt import BayesianOptimization\n",
        "\n",
        "quantity = 'EXEC-TIME'\n",
        "trials = 50\n",
        "pval = 1\n",
        "\n",
        "def objective(no_trees, max_tree_depth, bootstrap_ind, min_samples_split, no_features):\n",
        "    no_trees  = int(no_trees)\n",
        "    max_tree_depth = int(max_tree_depth)\n",
        "    min_samples_split = int(min_samples_split)\n",
        "    no_features = int(no_features)\n",
        "    bootstrap = True\n",
        "    if bootstrap_ind > 0:\n",
        "        bootstrap = False\n",
        "    func = generate_evaluation_function()\n",
        "    #subtract from 1 because the library only supports maximise\n",
        "    return pval - func(no_trees=no_trees, \n",
        "                max_tree_depth=max_tree_depth, \n",
        "                bootstrap=bootstrap, \n",
        "                min_samples_split=min_samples_split, \n",
        "                no_features=no_features, \n",
        "                metric=metric)\n",
        "\n",
        "#Start timer/memory profiler/CPU timer\n",
        "start_time = None\n",
        "if quantity == 'EXEC-TIME':\n",
        "    import time\n",
        "    start_time = time.perf_counter_ns()\n",
        "elif quantity == 'CPU-TIME':\n",
        "    import time\n",
        "    start_time = time.process_time_ns()\n",
        "elif quantity == 'MAX-MEMORY':\n",
        "    import tracemalloc\n",
        "    tracemalloc.start()\n",
        "\n",
        "#Begin optimisation\n",
        "pbounds = {'no_trees': (1, 40), 'max_tree_depth': (1, 20), 'bootstrap_ind': (-1,1), 'min_samples_split': (2,10), 'no_features': (1,10)}\n",
        "\n",
        "optimizer = BayesianOptimization(\n",
        "    f=objective,\n",
        "    pbounds=pbounds,\n",
        "    random_state=1,\n",
        "    verbose = 0\n",
        ")\n",
        "\n",
        "optimizer.maximize(\n",
        "    init_points=10,\n",
        "    n_iter=trials,\n",
        ")\n",
        "\n",
        "result = None\n",
        "if quantity == 'EXEC-TIME':\n",
        "    end_time = time.perf_counter_ns()\n",
        "    result = end_time - start_time\n",
        "elif quantity == 'CPU-TIME':\n",
        "    end_time = time.process_time_ns()\n",
        "    result = end_time - start_time\n",
        "elif quantity == 'MAX-MEMORY':\n",
        "    _, result = tracemalloc.get_traced_memory()\n",
        "    tracemalloc.stop()\n",
        "    \n",
        "best = optimizer.max\n",
        "best_params = best['params']\n",
        "best_score = pval - best['target']\n",
        "print(f'Number of trials: {trials}')\n",
        "print(f'Best params: {best_params}')\n",
        "print(f'Best score: {best_score}')\n",
        "print(f'{quantity}: {result}')"
      ]
    },
    {
      "cell_type": "markdown",
      "metadata": {
        "id": "qhzp19xNwh1O"
      },
      "source": [
        "### 2.F. Hyperband"
      ]
    },
    {
      "cell_type": "code",
      "execution_count": null,
      "metadata": {
        "id": "0e46KcQUwmiw"
      },
      "outputs": [],
      "source": [
        "import optuna\n",
        "from commonfunctions import generate_range\n",
        "\n",
        "quantity = 'EXEC-TIME'\n",
        "resolution = 0.2\n",
        "\n",
        "def objective(trial):\n",
        "    no_trees = trial.suggest_categorical(\"no_trees\", [1,10,20,30,40])\n",
        "    max_tree_depth = trial.suggest_categorical(\"max_tree_depth\", [1, 5, 10, 15, 20])\n",
        "    bootstrap = trial.suggest_categorical(\"bootstrap\", [True, False])\n",
        "    min_samples_split = trial.suggest_int(\"min_samples_split\", 2, 11, step=1)\n",
        "    no_features = trial.suggest_int(\"no_features\", 1, 11, step=1)   \n",
        "\n",
        "    for fraction in generate_range(resolution,1,resolution):\n",
        "        func = generate_budget_function(budget_type='samples', budget_fraction=fraction)\n",
        "        metric_value = func(no_trees=no_trees, \n",
        "                max_tree_depth=max_tree_depth, \n",
        "                bootstrap=bootstrap, \n",
        "                min_samples_split=min_samples_split, \n",
        "                no_features=no_features, \n",
        "                metric=metric)\n",
        "        #Check for pruning\n",
        "        trial.report(metric_value, fraction)\n",
        "        if trial.should_prune():\n",
        "            #print('=======================================================================================================')\n",
        "            raise optuna.TrialPruned()\n",
        "\n",
        "    #Would return the metric for fully trained model (on full dataset)\n",
        "    return metric_value\n",
        "    \n",
        "\n",
        "#Start timer/memory profiler/CPU timer\n",
        "start_time = None\n",
        "if quantity == 'EXEC-TIME':\n",
        "    import time\n",
        "    start_time = time.perf_counter_ns()\n",
        "elif quantity == 'CPU-TIME':\n",
        "    import time\n",
        "    start_time = time.process_time_ns()\n",
        "elif quantity == 'MAX-MEMORY':\n",
        "    import tracemalloc\n",
        "    tracemalloc.start()\n",
        "\n",
        "optuna.logging.set_verbosity(optuna.logging.FATAL)\n",
        "study = optuna.create_study(\n",
        "    direction=\"minimize\",\n",
        "    pruner=optuna.pruners.HyperbandPruner(\n",
        "        min_resource=resolution, max_resource=1, reduction_factor=2\n",
        "    ),\n",
        ")\n",
        "study.optimize(objective, n_trials=50)\n",
        "\n",
        "#resource_usage = getrusage(RUSAGE_SELF)\n",
        "#End timer/memory profiler/CPU timer\n",
        "result = None\n",
        "if quantity == 'EXEC-TIME':\n",
        "    end_time = time.perf_counter_ns()\n",
        "    result = end_time - start_time\n",
        "elif quantity == 'CPU-TIME':\n",
        "    end_time = time.process_time_ns()\n",
        "    result = end_time - start_time\n",
        "elif quantity == 'MAX-MEMORY':\n",
        "    _, result = tracemalloc.get_traced_memory()\n",
        "    tracemalloc.stop()\n",
        "    \n",
        "print(f'Number of trials: {len(study.trials)}')\n",
        "print(f'Best trial: {study.best_trial}')\n",
        "print(f'{quantity}: {result}')\n",
        "#print(f'Resource usage: {resource_usage}')"
      ]
    },
    {
      "cell_type": "markdown",
      "metadata": {
        "id": "QidzSObkwmxm"
      },
      "source": [
        "### 2.G. BOHB"
      ]
    },
    {
      "cell_type": "code",
      "execution_count": null,
      "metadata": {
        "id": "1YdwVVmswr71"
      },
      "outputs": [],
      "source": [
        "#TODO\n",
        "import ConfigSpace as CS\n",
        "import ConfigSpace.hyperparameters as CSH\n",
        "import hpbandster.core.nameserver as hpns\n",
        "import hpbandster.core.result as hpres\n",
        "from hpbandster.core.worker import Worker\n",
        "from hpbandster.examples.commons import MyWorker\n",
        "from hpbandster.optimizers import BOHB as BOHB\n",
        "\n",
        "#To hide logs\n",
        "import logging\n",
        "logObj = logging.getLogger('noOutput')\n",
        "logObj.setLevel(100)\n",
        "\n",
        "#To hide warnings\n",
        "import warnings\n",
        "warnings.filterwarnings(\"ignore\")\n",
        "\n",
        "#Define the worker\n",
        "class MyWorker(Worker):\n",
        "\n",
        "    def __init__(self, *args, sleep_interval=0, **kwargs):\n",
        "        super().__init__(*args, **kwargs)\n",
        "\n",
        "        self.sleep_interval = sleep_interval\n",
        "\n",
        "    def compute(self, config, budget, **kwargs):\n",
        "        func = generate_budget_function(budget_type='samples', budget_fraction=budget)\n",
        "        res = func(**config, metric=metric)\n",
        "        \n",
        "        return({\n",
        "                    'loss': res,\n",
        "                    'info': res\n",
        "                })\n",
        "    \n",
        "    @staticmethod\n",
        "    def get_configspace():\n",
        "        cs = CS.ConfigurationSpace()\n",
        "        bootstrap = CSH.CategoricalHyperparameter('bootstrap', [True, False])\n",
        "        cs.add_hyperparameters([bootstrap])\n",
        "\n",
        "        no_trees = CSH.UniformIntegerHyperparameter('no_trees', lower=1, upper=40)\n",
        "        max_tree_depth = CSH.UniformIntegerHyperparameter('max_tree_depth', lower=1, upper=20)\n",
        "        min_samples_split = CSH.UniformIntegerHyperparameter('min_samples_split', lower=2, upper=11)\n",
        "        no_features = CSH.UniformIntegerHyperparameter('no_features', lower=1, upper=11)\n",
        "        cs.add_hyperparameters([no_trees, max_tree_depth, min_samples_split, no_features])\n",
        "\n",
        "        return cs\n",
        "\n",
        "#Setup nameserver\n",
        "NS = hpns.NameServer(run_id='rf-wine', host='127.0.0.1', port=None)\n",
        "NS.start()\n",
        "\n",
        "#Start a worker\n",
        "w = MyWorker(sleep_interval = 0, nameserver='127.0.0.1',run_id='rf-wine', logger=logObj)\n",
        "w.run(background=True)\n",
        "\n",
        "quantity = 'EXEC-TIME'\n",
        "\n",
        "#Start timer/memory profiler/CPU timer\n",
        "start_time = None\n",
        "if quantity == 'EXEC-TIME':\n",
        "    import time\n",
        "    start_time = time.perf_counter_ns()\n",
        "elif quantity == 'CPU-TIME':\n",
        "    import time\n",
        "    start_time = time.process_time_ns()\n",
        "elif quantity == 'MAX-MEMORY':\n",
        "    import tracemalloc\n",
        "    tracemalloc.start()\n",
        "\n",
        "#Run the optimiser\n",
        "MAX_BUDGET = 1.0\n",
        "MIN_BUDGET = 0.2\n",
        "bohb = BOHB(  configspace = w.get_configspace(),\n",
        "              run_id = 'rf-wine', nameserver='127.0.0.1',\n",
        "              min_budget=MIN_BUDGET, max_budget=MAX_BUDGET,\n",
        "              logger=logObj\n",
        "           )\n",
        "res = bohb.run(n_iterations=50)\n",
        "\n",
        "#End timer/memory profiler/CPU timer\n",
        "quantity_result = None\n",
        "if quantity == 'EXEC-TIME':\n",
        "    end_time = time.perf_counter_ns()\n",
        "    quantity_result = end_time - start_time\n",
        "elif quantity == 'CPU-TIME':\n",
        "    end_time = time.process_time_ns()\n",
        "    quantity_result = end_time - start_time\n",
        "elif quantity == 'MAX-MEMORY':\n",
        "    _, quantity_result = tracemalloc.get_traced_memory()\n",
        "    tracemalloc.stop()\n",
        "\n",
        "#Shutdown\n",
        "bohb.shutdown(shutdown_workers=True)\n",
        "NS.shutdown()\n",
        "\n",
        "id2config = res.get_id2config_mapping()\n",
        "inc_id = res.get_incumbent_id()\n",
        "inc_runs = res.get_runs_by_id(inc_id)\n",
        "inc_run = inc_runs[-1]\n",
        "\n",
        "print('Best found configuration:', id2config[inc_id]['config'])\n",
        "print(f'Validation loss: {inc_run.loss}')\n",
        "print('A total of %i unique configurations were sampled.' % len(id2config.keys()))\n",
        "print('A total of %i runs were executed.' % len(res.get_all_runs()))\n",
        "print('Total budget corresponds to %.1f full function evaluations.'%(sum([r.budget for r in res.get_all_runs()])/MAX_BUDGET))\n",
        "print(f'{quantity}: {quantity_result}')"
      ]
    },
    {
      "cell_type": "markdown",
      "metadata": {
        "id": "ZQXlJjYBxYSm"
      },
      "source": [
        "## 3. Display Background Specifications"
      ]
    },
    {
      "cell_type": "code",
      "execution_count": null,
      "metadata": {
        "id": "PXyRVWtZxi6j"
      },
      "outputs": [],
      "source": [
        "!lscpu"
      ]
    },
    {
      "cell_type": "code",
      "source": [
        "!nvidia-smi -L"
      ],
      "metadata": {
        "id": "O3Be7fnffnzX"
      },
      "execution_count": null,
      "outputs": []
    }
  ],
  "metadata": {
    "colab": {
      "collapsed_sections": [],
      "provenance": [],
      "toc_visible": true
    },
    "kernelspec": {
      "display_name": "Python 3",
      "name": "python3"
    },
    "language_info": {
      "name": "python"
    },
    "accelerator": "GPU"
  },
  "nbformat": 4,
  "nbformat_minor": 0
}